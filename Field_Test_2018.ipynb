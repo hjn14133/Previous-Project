{
  "nbformat": 4,
  "nbformat_minor": 0,
  "metadata": {
    "colab": {
      "name": "Field Test 2018.ipynb",
      "provenance": [],
      "authorship_tag": "ABX9TyMaIU4AhqgoqCN/6gxoIdQz",
      "include_colab_link": true
    },
    "kernelspec": {
      "name": "python3",
      "display_name": "Python 3"
    },
    "language_info": {
      "name": "python"
    }
  },
  "cells": [
    {
      "cell_type": "markdown",
      "metadata": {
        "id": "view-in-github",
        "colab_type": "text"
      },
      "source": [
        "<a href=\"https://colab.research.google.com/github/hjn14133/Previous-Project/blob/main/Field_Test_2018.ipynb\" target=\"_parent\"><img src=\"https://colab.research.google.com/assets/colab-badge.svg\" alt=\"Open In Colab\"/></a>"
      ]
    },
    {
      "cell_type": "code",
      "metadata": {
        "id": "IH0uzUZNfD_f"
      },
      "source": [
        "import numpy as np\n",
        "import sklearn.metrics as metrics\n",
        "import matplotlib.pyplot as plt\n",
        "\n",
        "from scipy import stats\n",
        "from sklearn.linear_model import LinearRegression\n",
        "from sklearn.metrics import mean_squared_error, r2_score, mean_absolute_error\n",
        "\n",
        "DNs = np.array([583833.00, 192483.00, 431479.00, 635105, 890802.00, \n",
        "                146825.00, 434682.00 ])\n",
        "\n",
        "coff = 32767\n",
        "\n",
        "V = DNs/coff\n",
        "\n",
        "cal = np.array([583.60, 152.3, 636.8, 832, 1268.8, 96.2, 547.40 ])\n",
        "\n",
        "\n",
        "\n"
      ],
      "execution_count": null,
      "outputs": []
    },
    {
      "cell_type": "code",
      "metadata": {
        "colab": {
          "base_uri": "https://localhost:8080/"
        },
        "id": "G9QO1FZcgQ_4",
        "outputId": "93c6121e-965c-429e-fe04-989a29744958"
      },
      "source": [
        "mae = metrics.mean_absolute_error(V, cal)\n",
        "mse = metrics.mean_squared_error(V, cal)\n",
        "rmse = np.sqrt(mse) # or mse**(0.5)  \n",
        "r2 = metrics.r2_score(V,cal)\n",
        "\n",
        "print(\"Results of sklearn.metrics:\")\n",
        "print(\"MAE:\",mae)\n",
        "print(\"MSE:\", mse)\n",
        "print(\"RMSE:\", rmse)\n",
        "print(\"R-Squared:\", r2)"
      ],
      "execution_count": null,
      "outputs": [
        {
          "output_type": "stream",
          "name": "stdout",
          "text": [
            "Results of sklearn.metrics:\n",
            "MAE: 573.703537531227\n",
            "MSE: 460875.8923722763\n",
            "RMSE: 678.8784076491727\n",
            "R-Squared: -8628.560693137846\n"
          ]
        }
      ]
    },
    {
      "cell_type": "code",
      "metadata": {
        "colab": {
          "base_uri": "https://localhost:8080/"
        },
        "id": "c44sOIgWgrKx",
        "outputId": "184f1664-80fc-46f9-b2a3-8ae33c7868cd"
      },
      "source": [
        "# calculate manually\n",
        "d = V - cal\n",
        "mse_f = np.mean(d**2)\n",
        "mae_f = np.mean(abs(d))\n",
        "rmse_f = np.sqrt(mse_f)\n",
        "r2_f = 1-(sum(d**2)/sum((V-np.mean(V))**2))\n",
        "\n",
        "print(\"Results by manual calculation:\")\n",
        "print(\"MAE:\",mae_f)\n",
        "print(\"MSE:\", mse_f)\n",
        "print(\"RMSE:\", rmse_f)\n",
        "print(\"R-Squared:\", r2_f)\n",
        " "
      ],
      "execution_count": null,
      "outputs": [
        {
          "output_type": "stream",
          "name": "stdout",
          "text": [
            "Results by manual calculation:\n",
            "MAE: 573.703537531227\n",
            "MSE: 460875.8923722763\n",
            "RMSE: 678.8784076491727\n",
            "R-Squared: -8628.560693137846\n"
          ]
        }
      ]
    },
    {
      "cell_type": "code",
      "metadata": {
        "colab": {
          "base_uri": "https://localhost:8080/",
          "height": 316
        },
        "id": "StQu-0Wshwb0",
        "outputId": "f2f6909b-8d98-4634-8960-62cfefd1e4fd"
      },
      "source": [
        "def mean_absolute_percentage_error(y_true, y_pred): \n",
        "    y_true, y_pred = np.array(y_true), np.array(y_pred)\n",
        "    return np.mean(np.abs((y_true - y_pred) / y_true)) * 100\n",
        "  \n",
        "# new way to perform linear regression\n",
        "slope, intercept, r_value, p_value, std_err  = stats.linregress(V, cal)\n",
        "AW1_pred = intercept + slope*V\n",
        "print(\"slope: %f    intercept: %f\" % (slope, intercept))\n",
        "print(\"R-squared: %f\" % r_value**2)\n",
        "print(\"Mean absolute percentage error of sensors raw sum: %.2f\"\n",
        "      % mean_absolute_percentage_error(cal, AW1_pred))\n",
        "\n",
        "label1 ='fitted line: y = '+ str(round(intercept, 3)) +'+'+ str(round(slope, 3))+ '*x'\n",
        "plt.plot(V, cal, 'o', label='original data')\n",
        "plt.plot(V,  AW1_pred, 'r', label=label1)\n",
        "plt.legend()\n",
        "\n",
        "\n",
        "plt.show()"
      ],
      "execution_count": null,
      "outputs": [
        {
          "output_type": "stream",
          "name": "stdout",
          "text": [
            "slope: 49.443017    intercept: -126.472712\n",
            "R-squared: 0.953205\n",
            "Mean absolute percentage error of sensors raw sum: 9.01\n"
          ]
        },
        {
          "output_type": "display_data",
          "data": {
            "image/png": "[encoded data removed]",
            "text/plain": [
              "<Figure size 432x288 with 1 Axes>"
            ]
          },
          "metadata": {
            "needs_background": "light"
          }
        }
      ]
    },
    {
      "cell_type": "code",
      "metadata": {
        "colab": {
          "base_uri": "https://localhost:8080/"
        },
        "id": "GvH_YpWGieuT",
        "outputId": "c433195f-3e67-49ee-9d92-4901529ebb7e"
      },
      "source": [
        "mae = metrics.mean_absolute_error(cal, AW1_pred)\n",
        "mse = metrics.mean_squared_error(cal, AW1_pred)\n",
        "rmse = np.sqrt(mse) # or mse**(0.5)  \n",
        "r2 = metrics.r2_score(cal,AW1_pred)\n",
        "\n",
        "print(\"Results of sklearn.metrics:\")\n",
        "print(\"MAE:\",mae)\n",
        "print(\"MSE:\", mse)\n",
        "print(\"RMSE:\", rmse)\n",
        "print(\"R-Squared:\", r2)"
      ],
      "execution_count": null,
      "outputs": [
        {
          "output_type": "stream",
          "name": "stdout",
          "text": [
            "Results of sklearn.metrics:\n",
            "MAE: 52.159683566748924\n",
            "MSE: 6409.383980119711\n",
            "RMSE: 80.05862839269551\n",
            "R-Squared: 0.9532052137900818\n"
          ]
        }
      ]
    }
  ]
}