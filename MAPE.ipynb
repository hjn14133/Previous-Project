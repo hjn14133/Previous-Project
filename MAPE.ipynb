{
  "nbformat": 4,
  "nbformat_minor": 0,
  "metadata": {
    "colab": {
      "name": "MAPE.ipynb",
      "provenance": [],
      "authorship_tag": "ABX9TyPFgIxekiJlOvmOl6ZB2fus",
      "include_colab_link": true
    },
    "kernelspec": {
      "name": "python3",
      "display_name": "Python 3"
    }
  },
  "cells": [
    {
      "cell_type": "markdown",
      "metadata": {
        "id": "view-in-github",
        "colab_type": "text"
      },
      "source": [
        "<a href=\"https://colab.research.google.com/github/hjn14133/Previous-Project/blob/main/MAPE.ipynb\" target=\"_parent\"><img src=\"https://colab.research.google.com/assets/colab-badge.svg\" alt=\"Open In Colab\"/></a>"
      ]
    },
    {
      "cell_type": "code",
      "metadata": {
        "id": "q41ORxFieYPB",
        "colab": {
          "base_uri": "https://localhost:8080/",
          "height": 295
        },
        "outputId": "2f506949-36e4-4b6f-fad1-c88d33f45f1b"
      },
      "source": [
        "import numpy as np\n",
        "import matplotlib.pyplot as plt\n",
        "\n",
        "AW = np.array([138, 250, 880, 1466, 1348, 941, 1039, 248, 237, 38,\n",
        "               1476, 615, 1595, 1043, 1082, 1754, 2132, 1680, 319,\n",
        "               361, 1579, 1371, 398, 404, 469, 34, 557,152, 27, 508,\n",
        "               2148, 2570, 2127, 2569, 1420, 1041,\n",
        "               2133, 2506])\n",
        "\n",
        "mape = np.array([21.087 ,  3.76  ,  1.5568,  0.9686,  1.3798,  0.6164,  0.4042,\n",
        "                4.3952,  0.4219, 24.4737,\n",
        "                0.7453,  0.    ,  2.6332,  1.4573,  2.7264,  1.5735,\n",
        "                0.6848,  2.5833, 10.2821,\n",
        "                8.7535,   6.5864,   5.0912,  13.0402,  35.9901,  11.3433,\n",
        "                123.8235,   7.7917,  32.0395, 197.7778,  12.5197,\n",
        "                3.3892, 1.4981, 2.1157, 0.7629, 3.8451, 3.4006,\n",
        "                 2.7848, 3.5196])\n",
        "\n",
        "plt.plot(AW, mape, 'o', label='mean absolute percentage error (%)')\n",
        "#plt.hlines(5, 0, 2600, colors='r', linestyles=':')\n",
        "#plt.hlines(10, 0, 3000, colors='r', linestyles=':')\n",
        "#plt.hlines(15, 0, 3000, colors='r', linestyles=':')\n",
        "plt.vlines(200, 0, 200, colors='r', linestyles=':')\n",
        "plt.legend()\n",
        "\n",
        "plt.title('Field Tests in 2019')\n",
        "plt.xlabel('Seed cotton Weight (lbs)')\n",
        "plt.ylabel('mean absolute percentage error (%)')\n",
        "plt.show()\n"
      ],
      "execution_count": null,
      "outputs": [
        {
          "output_type": "display_data",
          "data": {
            "image/png": "[encoded data removed]",
            "text/plain": [
              "<Figure size 432x288 with 1 Axes>"
            ]
          },
          "metadata": {
            "tags": [],
            "needs_background": "light"
          }
        }
      ]
    },
    {
      "cell_type": "code",
      "metadata": {
        "id": "FQH1461VABzT",
        "colab": {
          "base_uri": "https://localhost:8080/",
          "height": 34
        },
        "outputId": "0a732c00-a51d-463b-9eae-b3773ba0bf3a"
      },
      "source": [
        "np.mean(mape)"
      ],
      "execution_count": null,
      "outputs": [
        {
          "output_type": "execute_result",
          "data": {
            "text/plain": [
              "14.679536842105264"
            ]
          },
          "metadata": {
            "tags": []
          },
          "execution_count": 23
        }
      ]
    },
    {
      "cell_type": "code",
      "metadata": {
        "id": "yzAMsy8KAIUw",
        "colab": {
          "base_uri": "https://localhost:8080/",
          "height": 34
        },
        "outputId": "afee0e68-d64e-4a20-fdfd-341abdbbf303"
      },
      "source": [
        "np.min(mape)"
      ],
      "execution_count": null,
      "outputs": [
        {
          "output_type": "execute_result",
          "data": {
            "text/plain": [
              "0.0"
            ]
          },
          "metadata": {
            "tags": []
          },
          "execution_count": 20
        }
      ]
    },
    {
      "cell_type": "code",
      "metadata": {
        "id": "dEeRJ1sQftcL",
        "colab": {
          "base_uri": "https://localhost:8080/",
          "height": 295
        },
        "outputId": "a47387a6-7129-40ee-8cbd-1aaa6e780c45"
      },
      "source": [
        "import numpy as np\n",
        "import matplotlib.pyplot as plt\n",
        "\n",
        "AW1 = np.array([138, 250, 880, 1466, 1348, 941, 1039, 248, 237, 38])\n",
        "mape1 = np.array([21.087 ,  3.76  ,  1.5568,  0.9686,  1.3798,  0.6164,  0.4042,\n",
        "        4.3952,  0.4219, 24.4737])\n",
        "\n",
        "AW2 = np.array([1476, 615, 1595, 1043, 1082, 1754, 2132, 1680, 319])\n",
        "mape2 =np.array([ 0.7453,  0.    ,  2.6332,  1.4573,  2.7264,  1.5735,\n",
        "        0.6848,  2.5833, 10.2821])\n",
        "\n",
        "AW3 = np.array([361, 1579, 1371, 398, 404, 469, 34, 557,152, 27, 508])\n",
        "mape3 = np.array([  8.7535,   6.5864,   5.0912,  13.0402,  35.9901,  11.3433,\n",
        "       123.8235,   7.7917,  32.0395, 197.7778,  12.5197])\n",
        "\n",
        "AW4 = np.array([2148, 2570, 2127, 2569, 1420, 1041])\n",
        "mape4 = np.array([3.3892, 1.4981, 2.1157, 0.7629, 3.8451, 3.4006])\n",
        "\n",
        "AW5 = np.array([2133, 2506])\n",
        "mape5 = np.array([2.7848, 3.5196])\n",
        "\n",
        "plt.plot(AW1, mape1, 'o', label='mape of W1 at TTU Pivot Farm on 11/19')\n",
        "plt.plot(AW2, mape2, 'o',color='r', label='mape of W2 at TTU Pivot Farm on 11/25')\n",
        "plt.plot(AW3, mape3, 'o',color='y', label='mape of B1 at 4th Street Farm on 12/06')\n",
        "plt.plot(AW4, mape4, 'o',color='m', label='mape of B2 at 4th Street Farm on 12/06')\n",
        "plt.plot(AW5, mape5, 'o',color='g', label='mape of B3 at 4th Street Farm on 12/06')\n",
        "plt.vlines(200, 0, 200, colors='r', linestyles=':', label='x = 200 lbs.')\n",
        "plt.legend()\n",
        "\n",
        "plt.title('Field Tests in 2019')\n",
        "plt.xlabel('Seed cotton Weight (lbs)')\n",
        "plt.ylabel('mean absolute percentage error (%)')\n",
        "plt.show()"
      ],
      "execution_count": null,
      "outputs": [
        {
          "output_type": "display_data",
          "data": {
            "image/png": "[encoded data removed]",
            "text/plain": [
              "<Figure size 432x288 with 1 Axes>"
            ]
          },
          "metadata": {
            "tags": [],
            "needs_background": "light"
          }
        }
      ]
    },
    {
      "cell_type": "code",
      "metadata": {
        "id": "xJxG5ngnvfD7",
        "colab": {
          "base_uri": "https://localhost:8080/",
          "height": 295
        },
        "outputId": "f2b0ca8b-c16d-452a-c50f-71e6a04a105f"
      },
      "source": [
        "import numpy as np\n",
        "import matplotlib.pyplot as plt\n",
        "\n",
        "AW1 = np.array([ 250, 880, 1466, 1348, 941, 1039, 248, 237])\n",
        "mape1 = np.array([  3.76  ,  1.5568,  0.9686,  1.3798,  0.6164,  0.4042,\n",
        "        4.3952,  0.4219])\n",
        "\n",
        "AW2 = np.array([1476, 615, 1595, 1043, 1082, 1754, 2132, 1680, 319])\n",
        "mape2 =np.array([ 0.7453,  0.    ,  2.6332,  1.4573,  2.7264,  1.5735,\n",
        "        0.6848,  2.5833, 10.2821])\n",
        "\n",
        "AW3 = np.array([361, 1579, 1371, 398, 404, 469, 557,  508])\n",
        "mape3 = np.array([  8.7535,   6.5864,   5.0912,  13.0402,  35.9901,  11.3433,\n",
        "         7.7917,  12.5197])\n",
        "\n",
        "AW4 = np.array([2148, 2570, 2127, 2569, 1420, 1041])\n",
        "mape4 = np.array([3.3892, 1.4981, 2.1157, 0.7629, 3.8451, 3.4006])\n",
        "\n",
        "AW5 = np.array([2133, 2506])\n",
        "mape5 = np.array([2.7848, 3.5196])\n",
        "\n",
        "plt.plot(AW1, mape1, 'o', label='mape at TTU Pivot Farm on 11/19')\n",
        "plt.plot(AW2, mape2, 'o',color='r', label='mape at TTU Pivot Farm on 11/25')\n",
        "plt.plot(AW3, mape3, 'o',color='y', label='mape of B1 at 4th Street Farm on 12/06')\n",
        "plt.plot(AW4, mape4, 'o',color='m', label='mape of B2 at 4th Street Farm on 12/06')\n",
        "plt.plot(AW5, mape5, 'o',color='g', label='mape of B3 at 4th Street Farm on 12/06')\n",
        "#plt.vlines(200, 0, 200, colors='r', linestyles=':', label='x = 200 lbs.')\n",
        "plt.legend()\n",
        "\n",
        "plt.title('Field Tests in 2019')\n",
        "plt.xlabel('Seed cotton Weight (lbs)')\n",
        "plt.ylabel('mean absolute percentage error (%)')\n",
        "plt.show()"
      ],
      "execution_count": null,
      "outputs": [
        {
          "output_type": "display_data",
          "data": {
            "image/png": "[encoded data removed]",
            "text/plain": [
              "<Figure size 432x288 with 1 Axes>"
            ]
          },
          "metadata": {
            "tags": [],
            "needs_background": "light"
          }
        }
      ]
    },
    {
      "cell_type": "code",
      "metadata": {
        "id": "PTIxWIab62uc"
      },
      "source": [
        "import numpy as np\n",
        "mape3 = np.array([  8.7535,   6.5864,   5.0912,  13.0402,  35.9901,  11.3433,\n",
        "         7.7917,  12.5197])\n",
        "mape1 = np.array([  3.76  ,  1.5568,  0.9686,  1.3798,  0.6164,  0.4042,\n",
        "        4.3952,  0.4219])\n"
      ],
      "execution_count": null,
      "outputs": []
    },
    {
      "cell_type": "code",
      "metadata": {
        "colab": {
          "base_uri": "https://localhost:8080/"
        },
        "id": "cBWW8Ab169p9",
        "outputId": "16f4a954-61eb-4d9f-8363-7332d8884a55"
      },
      "source": [
        "np.mean(mape3)"
      ],
      "execution_count": null,
      "outputs": [
        {
          "output_type": "execute_result",
          "data": {
            "text/plain": [
              "12.6395125"
            ]
          },
          "metadata": {
            "tags": []
          },
          "execution_count": 7
        }
      ]
    },
    {
      "cell_type": "code",
      "metadata": {
        "colab": {
          "base_uri": "https://localhost:8080/"
        },
        "id": "W96DNnz-7iDF",
        "outputId": "c8b7a901-c542-46ee-97af-c7e5e7ff592d"
      },
      "source": [
        "np.mean(mape1)"
      ],
      "execution_count": null,
      "outputs": [
        {
          "output_type": "execute_result",
          "data": {
            "text/plain": [
              "1.6878625"
            ]
          },
          "metadata": {
            "tags": []
          },
          "execution_count": 8
        }
      ]
    },
    {
      "cell_type": "code",
      "metadata": {
        "id": "s6sFsmJM11QH"
      },
      "source": [
        "all_mape = np.concatenate((mape1, mape2, mape3, mape4, mape5))"
      ],
      "execution_count": null,
      "outputs": []
    },
    {
      "cell_type": "code",
      "metadata": {
        "id": "u1F0RUO72dsU",
        "colab": {
          "base_uri": "https://localhost:8080/",
          "height": 34
        },
        "outputId": "4c920c02-2c59-4b7b-ddfb-0e8b39a5b923"
      },
      "source": [
        "np.average(all_mape)"
      ],
      "execution_count": null,
      "outputs": [
        {
          "output_type": "execute_result",
          "data": {
            "text/plain": [
              "4.806693939393939"
            ]
          },
          "metadata": {
            "tags": []
          },
          "execution_count": 6
        }
      ]
    },
    {
      "cell_type": "code",
      "metadata": {
        "id": "3Ye5BrMd2zCR",
        "colab": {
          "base_uri": "https://localhost:8080/",
          "height": 34
        },
        "outputId": "e0af5b2f-b147-4aa7-ddbd-1b404d562aa0"
      },
      "source": [
        "len(all_mape)"
      ],
      "execution_count": null,
      "outputs": [
        {
          "output_type": "execute_result",
          "data": {
            "text/plain": [
              "33"
            ]
          },
          "metadata": {
            "tags": []
          },
          "execution_count": 8
        }
      ]
    },
    {
      "cell_type": "code",
      "metadata": {
        "id": "P3KDOn563KIT"
      },
      "source": [
        "cnt = 0\n",
        "cnt10 = 0\n",
        "cnt15 = 0\n",
        "for i in all_mape:\n",
        "  if i < 5:\n",
        "    cnt = cnt + 1\n",
        "    cnt10 = cnt10 + 1\n",
        "    cnt15 = cnt15 + 1\n",
        "  elif i < 10:\n",
        "    cnt10 = cnt10 + 1\n",
        "    cnt15 = cnt15 + 1\n",
        "  elif i < 15:\n",
        "    cnt15 = cnt15 + 1\n",
        "\n",
        "  \n",
        "\n",
        "\n"
      ],
      "execution_count": null,
      "outputs": []
    },
    {
      "cell_type": "code",
      "metadata": {
        "id": "mlOn4_VT36zv",
        "colab": {
          "base_uri": "https://localhost:8080/",
          "height": 34
        },
        "outputId": "0afbd241-1207-42bd-dde7-defa7b2b5c76"
      },
      "source": [
        "cnt/len(all_mape)*100"
      ],
      "execution_count": null,
      "outputs": [
        {
          "output_type": "execute_result",
          "data": {
            "text/plain": [
              "72.72727272727273"
            ]
          },
          "metadata": {
            "tags": []
          },
          "execution_count": 13
        }
      ]
    },
    {
      "cell_type": "code",
      "metadata": {
        "id": "CHxqzc3q37zu",
        "colab": {
          "base_uri": "https://localhost:8080/",
          "height": 34
        },
        "outputId": "3ea4d894-5bdc-46ca-e85e-beff184a1ef6"
      },
      "source": [
        "cnt10/len(all_mape)*100"
      ],
      "execution_count": null,
      "outputs": [
        {
          "output_type": "execute_result",
          "data": {
            "text/plain": [
              "84.84848484848484"
            ]
          },
          "metadata": {
            "tags": []
          },
          "execution_count": 14
        }
      ]
    },
    {
      "cell_type": "code",
      "metadata": {
        "id": "RtlkQdve38rA",
        "colab": {
          "base_uri": "https://localhost:8080/",
          "height": 34
        },
        "outputId": "636d4d7a-5bde-4be1-b0c6-996d8aa36389"
      },
      "source": [
        "cnt15/len(all_mape)"
      ],
      "execution_count": null,
      "outputs": [
        {
          "output_type": "execute_result",
          "data": {
            "text/plain": [
              "0.9696969696969697"
            ]
          },
          "metadata": {
            "tags": []
          },
          "execution_count": 15
        }
      ]
    },
    {
      "cell_type": "code",
      "metadata": {
        "id": "MYwlA1fP39og"
      },
      "source": [
        ""
      ],
      "execution_count": null,
      "outputs": []
    }
  ]
}